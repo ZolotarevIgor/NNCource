{
 "cells": [
  {
   "cell_type": "markdown",
   "metadata": {},
   "source": [
    "$y_{k}(n) = \\frac{D}{1-DF}[x_{j}(n)]$\n",
    "\n",
    "$y_{k}(n) = \\frac{w}{1-wz^{-1}}[x_{j}(n)]$ - по определению D и F\n",
    "\n",
    "$y_{k}(n) = w(1-wz^{-1})^{-1}[x_{j}(n)]$\n",
    "\n",
    "$y_{k}(n) = w\\sum C_{-1}^{l}(-wz^{-1})^{l}[x_{j}(n)]$ - раскладываем в бином Ньютона\n",
    "\n",
    "$y_{k}(n) = w\\sum_{l=0}^{n} (-1)^{l}\\frac{(1+l-1)!}{l!0!}(-wz^{-1})^{l}[x_{j}(n)]$ - раскладываем биноминальный \n",
    "коэффициент по формуле для отрицательного показателя\n",
    "\n",
    "$y_{k}(n) = w\\sum_{l=0}^{n} (-1)^{2l}\\frac{l!}{l!}(wz^{-1})^{l}[x_{j}(n)]$\n",
    "\n",
    "$y_{k}(n) = w\\sum_{l=0}^{n}w^lz^{-l}[x_{j}(n)]$\n",
    "\n",
    "$y_{k}(n) = \\sum_{l=0}^{n}w^{l+1}z^{-l}[x_{j}(n)]$ - раскрываем $z^{-1}$ по определению\n",
    "\n",
    "$y_{k}(n) = \\sum_{l=0}^{n}w^{l+1}x_{j}(n-l)$\n"
   ]
  },
  {
   "cell_type": "code",
   "execution_count": 1,
   "metadata": {},
   "outputs": [],
   "source": [
    "import numpy as np\n",
    "import matplotlib.pyplot as plt"
   ]
  },
  {
   "cell_type": "code",
   "execution_count": 2,
   "metadata": {},
   "outputs": [],
   "source": [
    "def ds_fb(x, n, w):\n",
    "    y = [x*w]\n",
    "    for l in range(n):\n",
    "        y.append(w*y[-1])\n",
    "    return y"
   ]
  },
  {
   "cell_type": "code",
   "execution_count": 3,
   "metadata": {},
   "outputs": [
    {
     "data": {
      "image/png": "[encoded data removed]",
      "text/plain": [
       "<Figure size 432x288 with 1 Axes>"
      ]
     },
     "metadata": {
      "needs_background": "light"
     },
     "output_type": "display_data"
    }
   ],
   "source": [
    "plt.plot(range(11),ds_fb(1, 10, 0.1))\n",
    "plt.grid()\n",
    "plt.title('|w| < 1')\n",
    "plt.show()"
   ]
  },
  {
   "cell_type": "code",
   "execution_count": 4,
   "metadata": {},
   "outputs": [
    {
     "data": {
      "image/png": "[encoded data removed]",
      "text/plain": [
       "<Figure size 432x288 with 1 Axes>"
      ]
     },
     "metadata": {
      "needs_background": "light"
     },
     "output_type": "display_data"
    }
   ],
   "source": [
    "plt.plot(range(11),ds_fb(1, 10, 1))\n",
    "plt.grid()\n",
    "plt.title('|w| = 1')\n",
    "plt.show()"
   ]
  },
  {
   "cell_type": "code",
   "execution_count": 5,
   "metadata": {},
   "outputs": [
    {
     "data": {
      "image/png": "[encoded data removed]",
      "text/plain": [
       "<Figure size 432x288 with 1 Axes>"
      ]
     },
     "metadata": {
      "needs_background": "light"
     },
     "output_type": "display_data"
    }
   ],
   "source": [
    "plt.plot(range(11),ds_fb(1, 10, 10))\n",
    "plt.grid()\n",
    "plt.title('|w| > 1')\n",
    "plt.show()"
   ]
  },
  {
   "cell_type": "code",
   "execution_count": 6,
   "metadata": {},
   "outputs": [],
   "source": [
    "def task4(N, x):\n",
    "    x = x.T\n",
    "    sz1, sz2 = x.shape\n",
    "    if sz1 > N / (2*np.log(N)) or N < sz2:\n",
    "        print('Сеть с таким количеством нейронов не способна запомнить данные образцы')\n",
    "        W = -1\n",
    "    else:\n",
    "        if (sz2 < N):\n",
    "            x = np.append(np.ones((sz1, N - sz2)), x)\n",
    "        W = x.T * x\n",
    "        for i in range(N):\n",
    "            W[i, i] = 0\n",
    "    return W"
   ]
  },
  {
   "cell_type": "code",
   "execution_count": 7,
   "metadata": {},
   "outputs": [
    {
     "data": {
      "text/plain": [
       "array([[ 0, -1,  1],\n",
       "       [-1,  0, -1],\n",
       "       [ 1, -1,  0]])"
      ]
     },
     "execution_count": 7,
     "metadata": {},
     "output_type": "execute_result"
    }
   ],
   "source": [
    "x = np.asarray([[1], [-1], [1]])\n",
    "N = 3\n",
    "task4(N,x)"
   ]
  },
  {
   "cell_type": "code",
   "execution_count": 26,
   "metadata": {},
   "outputs": [],
   "source": [
    "%run digits.py"
   ]
  },
  {
   "cell_type": "code",
   "execution_count": 27,
   "metadata": {},
   "outputs": [],
   "source": [
    "def train_hop_net(digits):\n",
    "    \"\"\"\n",
    "     Настройка нейронной сети Хопфилда. \n",
    "     Весовые значения для сети Хопфилда определяются непосресдственно в процессе\n",
    "     обработки обучающих данных минуя проведение обучения в более привычном\n",
    "     смысле (сопоставлением \"вход-выход\").\n",
    "     Переменная digits = {four five six} - список образцов фундаментальной\n",
    "     памяти\n",
    "     Переменная weights определяет матрицу весовых коэффициентов нейронной сети Хопфилда\n",
    "     (ассоциативной памяти)\n",
    "    \"\"\"\n",
    "    n = len(digits)\n",
    "    m = len(digits[0])\n",
    "    arr = np.ndarray((n, m))\n",
    "    for i in range(n):\n",
    "        for j in range(m):\n",
    "            arr[i,j] = digits[i][j]\n",
    "    return np.dot(arr.T, arr)"
   ]
  },
  {
   "cell_type": "code",
   "execution_count": 28,
   "metadata": {},
   "outputs": [],
   "source": [
    "w1 = train_hop_net([zero])"
   ]
  },
  {
   "cell_type": "code",
   "execution_count": 29,
   "metadata": {},
   "outputs": [],
   "source": [
    "def test_hop_net(weights, digit, iterations):\n",
    "    \"\"\"\n",
    "    Тестирование нейронной сети Хопфилда\n",
    "    Переменная weights описывает весовые коэффициенты рекуррентной сети с сохраненными элементами фундаментальной памяти\n",
    "    Переменная digit - входной образ (может представлять собой и зашумленную версию исходного вектора)\n",
    "    Переменная iterations - число \"эпох\" тестирования, имея в виду под эпохой\n",
    "    полное обновление состояния каждого из нейронов в случайном порядке\n",
    "    \"\"\"\n",
    "\n",
    "    new_digit = np.asarray(digit).copy()\n",
    "\n",
    "    for epoch in range(iterations):\n",
    "        update_order = np.random.permutation(range(63))\n",
    "        # Обновление состояния нейронов в случайном порядке\n",
    "        for i in range(63):\n",
    "            neuron = update_order[i]\n",
    "            net = np.dot(new_digit, weights[:,neuron])\n",
    "            if net > 0:\n",
    "                new_digit[neuron] = +1\n",
    "            if net < 0:\n",
    "                new_digit[neuron] = -1\n",
    "    return new_digit"
   ]
  },
  {
   "cell_type": "code",
   "execution_count": 30,
   "metadata": {},
   "outputs": [],
   "source": [
    "def noisy_digit(digit,noise):\n",
    "    \"\"\"\n",
    "    Создание зашумлённой версии входного образа\n",
    "    Переменная digit задаёт входной образ из фундаментальной памяти или произвольный образ\n",
    "    Переменная noise определяет уровень шума, добавляемого к исходному вектору\n",
    "    \"\"\"\n",
    "    if noise<0 or noise>1:\n",
    "        print('Уровень шума должен быть в пределах от 0 до 1\\n')\n",
    "    return digit + np.random.uniform(-noise, noise, np.asarray(digit).size)"
   ]
  },
  {
   "cell_type": "code",
   "execution_count": 31,
   "metadata": {},
   "outputs": [],
   "source": [
    "def visualize_number(num):\n",
    "    if type(num) != np.ndarray:\n",
    "        num = np.asarray(num)\n",
    "    plt.imshow(num.reshape(9, 7), cmap='Greys')\n",
    "    plt.show()"
   ]
  },
  {
   "cell_type": "code",
   "execution_count": 32,
   "metadata": {},
   "outputs": [
    {
     "data": {
      "image/png": "[encoded data removed]",
      "text/plain": [
       "<Figure size 432x288 with 1 Axes>"
      ]
     },
     "metadata": {
      "needs_background": "light"
     },
     "output_type": "display_data"
    },
    {
     "data": {
      "image/png": "[encoded data removed]",
      "text/plain": [
       "<Figure size 432x288 with 1 Axes>"
      ]
     },
     "metadata": {
      "needs_background": "light"
     },
     "output_type": "display_data"
    }
   ],
   "source": [
    "w = train_hop_net([zero, one])\n",
    "visualize_number(test_hop_net(w, zero, 1))\n",
    "visualize_number(test_hop_net(w, one, 1))"
   ]
  },
  {
   "cell_type": "code",
   "execution_count": 33,
   "metadata": {},
   "outputs": [
    {
     "data": {
      "image/png": "[encoded data removed]",
      "text/plain": [
       "<Figure size 432x288 with 1 Axes>"
      ]
     },
     "metadata": {
      "needs_background": "light"
     },
     "output_type": "display_data"
    },
    {
     "data": {
      "image/png": "[encoded data removed]",
      "text/plain": [
       "<Figure size 432x288 with 1 Axes>"
      ]
     },
     "metadata": {
      "needs_background": "light"
     },
     "output_type": "display_data"
    },
    {
     "data": {
      "image/png": "[encoded data removed]",
      "text/plain": [
       "<Figure size 432x288 with 1 Axes>"
      ]
     },
     "metadata": {
      "needs_background": "light"
     },
     "output_type": "display_data"
    }
   ],
   "source": [
    "w = train_hop_net([two, three, four])\n",
    "visualize_number(test_hop_net(w, two, 1))\n",
    "visualize_number(test_hop_net(w, three, 1))\n",
    "visualize_number(test_hop_net(w, four, 1))"
   ]
  },
  {
   "cell_type": "code",
   "execution_count": 34,
   "metadata": {},
   "outputs": [
    {
     "data": {
      "image/png": "[encoded data removed]",
      "text/plain": [
       "<Figure size 432x288 with 1 Axes>"
      ]
     },
     "metadata": {
      "needs_background": "light"
     },
     "output_type": "display_data"
    },
    {
     "data": {
      "image/png": "[encoded data removed]",
      "text/plain": [
       "<Figure size 432x288 with 1 Axes>"
      ]
     },
     "metadata": {
      "needs_background": "light"
     },
     "output_type": "display_data"
    }
   ],
   "source": [
    "w = train_hop_net([five, six])\n",
    "visualize_number(test_hop_net(w, five, 1))\n",
    "visualize_number(test_hop_net(w, six, 1))"
   ]
  },
  {
   "cell_type": "code",
   "execution_count": 35,
   "metadata": {},
   "outputs": [
    {
     "data": {
      "image/png": "[encoded data removed]",
      "text/plain": [
       "<Figure size 432x288 with 1 Axes>"
      ]
     },
     "metadata": {
      "needs_background": "light"
     },
     "output_type": "display_data"
    },
    {
     "data": {
      "image/png": "[encoded data removed]",
      "text/plain": [
       "<Figure size 432x288 with 1 Axes>"
      ]
     },
     "metadata": {
      "needs_background": "light"
     },
     "output_type": "display_data"
    },
    {
     "data": {
      "image/png": "[encoded data removed]",
      "text/plain": [
       "<Figure size 432x288 with 1 Axes>"
      ]
     },
     "metadata": {
      "needs_background": "light"
     },
     "output_type": "display_data"
    }
   ],
   "source": [
    "w = train_hop_net([seven, eight, nine])\n",
    "visualize_number(test_hop_net(w, seven, 1))\n",
    "visualize_number(test_hop_net(w, eight, 1))\n",
    "visualize_number(test_hop_net(w, nine, 1))"
   ]
  },
  {
   "cell_type": "code",
   "execution_count": 37,
   "metadata": {},
   "outputs": [
    {
     "data": {
      "image/png": "[encoded data removed]",
      "text/plain": [
       "<Figure size 432x288 with 1 Axes>"
      ]
     },
     "metadata": {
      "needs_background": "light"
     },
     "output_type": "display_data"
    },
    {
     "data": {
      "image/png": "[encoded data removed]",
      "text/plain": [
       "<Figure size 432x288 with 1 Axes>"
      ]
     },
     "metadata": {
      "needs_background": "light"
     },
     "output_type": "display_data"
    },
    {
     "data": {
      "image/png": "[encoded data removed]",
      "text/plain": [
       "<Figure size 432x288 with 1 Axes>"
      ]
     },
     "metadata": {
      "needs_background": "light"
     },
     "output_type": "display_data"
    }
   ],
   "source": [
    "visualize_number(test_hop_net(w, noisy_digit(seven, 0.3), 1))\n",
    "visualize_number(test_hop_net(w, noisy_digit(eight, 0.3), 1))\n",
    "visualize_number(test_hop_net(w, noisy_digit(nine, 0.3), 1))"
   ]
  }
 ],
 "metadata": {
  "kernelspec": {
   "display_name": "Python 3",
   "language": "python",
   "name": "python3"
  },
  "language_info": {
   "codemirror_mode": {
    "name": "ipython",
    "version": 3
   },
   "file_extension": ".py",
   "mimetype": "text/x-python",
   "name": "python",
   "nbconvert_exporter": "python",
   "pygments_lexer": "ipython3",
   "version": "3.6.5"
  }
 },
 "nbformat": 4,
 "nbformat_minor": 2
}
